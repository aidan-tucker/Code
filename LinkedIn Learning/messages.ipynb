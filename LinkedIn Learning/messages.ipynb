{
 "cells": [
  {
   "cell_type": "code",
   "execution_count": 62,
   "metadata": {},
   "outputs": [
    {
     "name": "stdout",
     "output_type": "stream",
     "text": [
      "ERROR: This is a message 5 lol - Whoops! Too many messages entered\n",
      "Message: This is a message 0 lol Time: 01-18-2024 16:53:24\n",
      "Message: This is a message 1 lol Time: 01-18-2024 16:53:24\n",
      "Message: This is a message 2 lol Time: 01-18-2024 16:53:24\n",
      "Message: This is a message 3 lol Time: 01-18-2024 16:53:24\n",
      "Message: This is a message 4 lol Time: 01-18-2024 16:53:24\n"
     ]
    }
   ],
   "source": [
    "from datetime import datetime\n",
    "\n",
    "\n",
    "class TooManyMessagesException(Exception):\n",
    "    def __init__(self, message):\n",
    "        super().__init__(f\"{message} - Whoops! Too many messages entered\")\n",
    "\n",
    "class Messenger:\n",
    "    def __init__(self, listeners=[]):\n",
    "        self.listeners = listeners\n",
    "        self.max = 5\n",
    "\n",
    "    def send(self, message):\n",
    "        for listener in self.listeners:\n",
    "            listener.receive(message)\n",
    "\n",
    "    def receive(self, message):\n",
    "        if len(self.messages) > self.max - 1 :\n",
    "            raise TooManyMessagesException(message)\n",
    "        self.messages.append({'message': message, 'time': getCurrentTime()})\n",
    "\n",
    "\n",
    "class SaveMessages(Messenger):\n",
    "    def __init__(self, listeners=[]):\n",
    "        super().__init__(listeners)\n",
    "        self.messages = []\n",
    "\n",
    "    def printMessages(self):\n",
    "        for message in self.messages:\n",
    "            print(f\"Message: {message['message']} Time: {message['time']}\")\n",
    "\n",
    "\n",
    "def getCurrentTime():\n",
    "    return datetime.now().strftime(\"%m-%d-%Y %H:%M:%S\")\n",
    "\n",
    "\n",
    "listener = SaveMessages()\n",
    "sender = Messenger([listener])\n",
    "\n",
    "try:\n",
    "    for i in range(10):\n",
    "        sender.send(f\"This is a message {i} lol\")\n",
    "except TooManyMessagesException as e:\n",
    "    print(f\"ERROR: {e}\")\n",
    "finally: listener.printMessages()"
   ]
  },
  {
   "cell_type": "code",
   "execution_count": 1,
   "metadata": {},
   "outputs": [
    {
     "name": "stdout",
     "output_type": "stream",
     "text": [
      "Windows-11-10.0.22631-SP0\n",
      "AMD64\n",
      "AMD64 Family 25 Model 80 Stepping 0, AuthenticAMD\n",
      "Windows\n",
      "10.0.22631\n",
      "CPython\n",
      "('3', '12', '1')\n"
     ]
    }
   ],
   "source": [
    "import platform\n",
    "\n",
    "print(platform.platform())\n",
    "print(platform.machine())\n",
    "print(platform.processor())\n",
    "print(platform.system())\n",
    "print(platform.version())\n",
    "print(platform.python_implementation())\n",
    "print(platform.python_version_tuple())"
   ]
  }
 ],
 "metadata": {
  "kernelspec": {
   "display_name": "Python 3",
   "language": "python",
   "name": "python3"
  },
  "language_info": {
   "codemirror_mode": {
    "name": "ipython",
    "version": 3
   },
   "file_extension": ".py",
   "mimetype": "text/x-python",
   "name": "python",
   "nbconvert_exporter": "python",
   "pygments_lexer": "ipython3",
   "version": "3.12.1"
  }
 },
 "nbformat": 4,
 "nbformat_minor": 2
}
