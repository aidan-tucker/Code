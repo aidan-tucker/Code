{
 "cells": [
  {
   "cell_type": "code",
   "execution_count": 60,
   "metadata": {},
   "outputs": [
    {
     "name": "stdout",
     "output_type": "stream",
     "text": [
      "### ### ###   # ### ### ### ### ### # #\n",
      "# # # # # #   #   #   # #     # #   # #\n",
      "### # # ###   #   # ### ### ### ### ###\n",
      "  # # # # #   #   # #   # #   #   #   #\n",
      "### ### ###   #   # ### ### ### ###   #\n",
      "\n"
     ]
    }
   ],
   "source": [
    "def output(x):\n",
    "    led = {'0':('###', '# #', '# #', '# #', '###'),\n",
    "           '1':('  #', '  #', '  #', '  #', '  #'),\n",
    "           '2':('###', '  #', '###', '#  ', '###'),\n",
    "           '3':('###', '  #', '###', '  #', '###'),\n",
    "           '4':('# #', '# #', '###', '  #', '  #'),\n",
    "           '5':('###', '#  ', '###', '  #', '###'),\n",
    "           '6':('###', '#  ', '###', '# #', '###'),\n",
    "           '7':('###', '  #', '  #', '  #', '  #'),\n",
    "           '8':('###', '# #', '###', '# #', '###'),\n",
    "           '9':('###', '# #', '###', '  #', '###')}\n",
    "    x = str(x)\n",
    "    result = \"\"\n",
    "\n",
    "    for i in range(len(led['0'])):\n",
    "        result += ' '.join([led[num][i] for num in x]) + '\\n'\n",
    "    return result\n",
    "\n",
    "print(output(9081726354))"
   ]
  }
 ],
 "metadata": {
  "kernelspec": {
   "display_name": "Python 3",
   "language": "python",
   "name": "python3"
  },
  "language_info": {
   "codemirror_mode": {
    "name": "ipython",
    "version": 3
   },
   "file_extension": ".py",
   "mimetype": "text/x-python",
   "name": "python",
   "nbconvert_exporter": "python",
   "pygments_lexer": "ipython3",
   "version": "3.12.1"
  }
 },
 "nbformat": 4,
 "nbformat_minor": 2
}
