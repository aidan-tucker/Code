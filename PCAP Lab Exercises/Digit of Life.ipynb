{
 "cells": [
  {
   "cell_type": "code",
   "execution_count": 22,
   "metadata": {},
   "outputs": [
    {
     "name": "stdout",
     "output_type": "stream",
     "text": [
      "6\n"
     ]
    }
   ],
   "source": [
    "def digitOfLife(x):\n",
    "    if len(x) != 8:\n",
    "        pass\n",
    "    else:\n",
    "        digit = int(x)\n",
    "        while digit > 9:\n",
    "            total = 0\n",
    "            for num in str(digit):\n",
    "                total += int(num)\n",
    "            digit = total\n",
    "        return digit\n",
    "\n",
    "\n",
    "print(digitOfLife(\"19991229\"))"
   ]
  }
 ],
 "metadata": {
  "kernelspec": {
   "display_name": "Python 3",
   "language": "python",
   "name": "python3"
  },
  "language_info": {
   "codemirror_mode": {
    "name": "ipython",
    "version": 3
   },
   "file_extension": ".py",
   "mimetype": "text/x-python",
   "name": "python",
   "nbconvert_exporter": "python",
   "pygments_lexer": "ipython3",
   "version": "3.12.1"
  }
 },
 "nbformat": 4,
 "nbformat_minor": 2
}
