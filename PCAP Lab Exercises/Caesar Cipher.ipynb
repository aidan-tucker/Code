{
 "cells": [
  {
   "cell_type": "code",
   "execution_count": 42,
   "metadata": {},
   "outputs": [
    {
     "name": "stdout",
     "output_type": "stream",
     "text": [
      "Sgd chd hr bzrs\n"
     ]
    }
   ],
   "source": [
    "def cipher(text, shift=1):\n",
    "    while shift > 25:\n",
    "        shift -= 26\n",
    "    cipher = ''\n",
    "\n",
    "    for char in text:\n",
    "        if not char.isalpha():\n",
    "            cipher += char\n",
    "        else:\n",
    "            code = ord(char) + shift\n",
    "            if ord(char) >= 65 and ord(char) <= 90 and code > 90: code -= 26\n",
    "            elif ord(char) >= 97 and ord(char) <= 122 and code > 122: code -= 26\n",
    "            cipher += chr(code)\n",
    "    return cipher\n",
    "\n",
    "\n",
    "print(cipher(\"The die is cast\", 25))"
   ]
  }
 ],
 "metadata": {
  "kernelspec": {
   "display_name": "Python 3",
   "language": "python",
   "name": "python3"
  },
  "language_info": {
   "codemirror_mode": {
    "name": "ipython",
    "version": 3
   },
   "file_extension": ".py",
   "mimetype": "text/x-python",
   "name": "python",
   "nbconvert_exporter": "python",
   "pygments_lexer": "ipython3",
   "version": "3.12.1"
  }
 },
 "nbformat": 4,
 "nbformat_minor": 2
}
