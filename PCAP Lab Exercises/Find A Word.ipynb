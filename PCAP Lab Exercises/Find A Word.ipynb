{
 "cells": [
  {
   "cell_type": "code",
   "execution_count": 11,
   "metadata": {},
   "outputs": [
    {
     "name": "stdout",
     "output_type": "stream",
     "text": [
      "True\n",
      "False\n"
     ]
    }
   ],
   "source": [
    "def pos(x,y):\n",
    "    count = 0\n",
    "    for char in y:\n",
    "        if char.lower() == x[count].lower(): count += 1\n",
    "        if count == len(x): return True\n",
    "    return False\n",
    "\n",
    "\n",
    "print(pos(\"donor\", \"Nabucodonosor\"))\n",
    "print(pos(\"donut\", \"Nabucodonosor\"))"
   ]
  }
 ],
 "metadata": {
  "kernelspec": {
   "display_name": "Python 3",
   "language": "python",
   "name": "python3"
  },
  "language_info": {
   "codemirror_mode": {
    "name": "ipython",
    "version": 3
   },
   "file_extension": ".py",
   "mimetype": "text/x-python",
   "name": "python",
   "nbconvert_exporter": "python",
   "pygments_lexer": "ipython3",
   "version": "3.12.1"
  }
 },
 "nbformat": 4,
 "nbformat_minor": 2
}
