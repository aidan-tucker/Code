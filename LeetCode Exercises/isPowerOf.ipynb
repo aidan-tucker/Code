{
 "cells": [
  {
   "cell_type": "code",
   "execution_count": 2,
   "metadata": {},
   "outputs": [
    {
     "name": "stdout",
     "output_type": "stream",
     "text": [
      "True\n",
      "False\n",
      "True\n",
      "True\n",
      "False\n",
      "False\n",
      "True\n",
      "False\n",
      "True\n"
     ]
    }
   ],
   "source": [
    "def isPowerOf(n, m=2):\n",
    "    for i in range(32):\n",
    "        if m**i == n: return True\n",
    "        elif m**i > n: break\n",
    "    return False\n",
    "\n",
    "\n",
    "print(isPowerOf(2, 2))\n",
    "print(isPowerOf(3, 2))\n",
    "print(isPowerOf(16, 2))\n",
    "print(isPowerOf(27, 3))\n",
    "print(isPowerOf(0, 3))\n",
    "print(isPowerOf(-1, 3))\n",
    "print(isPowerOf(16, 4))\n",
    "print(isPowerOf(5, 4))\n",
    "print(isPowerOf(1, 4))"
   ]
  }
 ],
 "metadata": {
  "kernelspec": {
   "display_name": "Python 3",
   "language": "python",
   "name": "python3"
  },
  "language_info": {
   "codemirror_mode": {
    "name": "ipython",
    "version": 3
   },
   "file_extension": ".py",
   "mimetype": "text/x-python",
   "name": "python",
   "nbconvert_exporter": "python",
   "pygments_lexer": "ipython3",
   "version": "3.12.1"
  }
 },
 "nbformat": 4,
 "nbformat_minor": 2
}
