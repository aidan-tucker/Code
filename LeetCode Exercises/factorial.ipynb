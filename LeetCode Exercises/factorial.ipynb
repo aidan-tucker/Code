{
 "cells": [
  {
   "cell_type": "code",
   "execution_count": 1,
   "metadata": {},
   "outputs": [
    {
     "name": "stdout",
     "output_type": "stream",
     "text": [
      "120\n",
      "720\n",
      "1\n",
      "None\n",
      "None\n",
      "None\n"
     ]
    }
   ],
   "source": [
    "def factorial(x):\n",
    "    if type(x) != int or x < 0: return None\n",
    "    elif x == 0 or x == 1: return 1\n",
    "    else: return x * factorial(x - 1)\n",
    "\n",
    "\n",
    "print(factorial(5))\n",
    "print(factorial(6))\n",
    "print(factorial(0))\n",
    "print(factorial(-2))\n",
    "print(factorial(1.2))\n",
    "print(factorial(\"I am a string\"))"
   ]
  }
 ],
 "metadata": {
  "kernelspec": {
   "display_name": "Python 3",
   "language": "python",
   "name": "python3"
  },
  "language_info": {
   "codemirror_mode": {
    "name": "ipython",
    "version": 3
   },
   "file_extension": ".py",
   "mimetype": "text/x-python",
   "name": "python",
   "nbconvert_exporter": "python",
   "pygments_lexer": "ipython3",
   "version": "3.12.1"
  }
 },
 "nbformat": 4,
 "nbformat_minor": 2
}
