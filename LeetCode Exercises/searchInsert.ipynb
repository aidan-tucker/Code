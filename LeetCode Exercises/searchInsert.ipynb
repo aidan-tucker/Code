{
 "cells": [
  {
   "cell_type": "code",
   "execution_count": 24,
   "metadata": {},
   "outputs": [
    {
     "name": "stdout",
     "output_type": "stream",
     "text": [
      "2\n",
      "1\n",
      "4\n",
      "0\n",
      "0\n",
      "1\n",
      "1\n"
     ]
    }
   ],
   "source": [
    "def searchInsert(nums, target):\n",
    "    if nums[0] > target: return 0\n",
    "    for i in range(len(nums)):\n",
    "        if nums[i] == target:\n",
    "            return i\n",
    "        elif i == len(nums) - 1: return len(nums)\n",
    "        elif nums[i] < target and nums[i + 1] > target:\n",
    "            return i + 1\n",
    "\n",
    "\n",
    "print(searchInsert([1,3,5,6], 5))\n",
    "print(searchInsert([1,3,5,6], 2))\n",
    "print(searchInsert([1,3,5,6], 7))\n",
    "print(searchInsert([1,3,5,6], 0))\n",
    "print(searchInsert([1], 1))\n",
    "print(searchInsert([1], 2))\n",
    "print(searchInsert([1,3], 3))"
   ]
  }
 ],
 "metadata": {
  "kernelspec": {
   "display_name": "Python 3",
   "language": "python",
   "name": "python3"
  },
  "language_info": {
   "codemirror_mode": {
    "name": "ipython",
    "version": 3
   },
   "file_extension": ".py",
   "mimetype": "text/x-python",
   "name": "python",
   "nbconvert_exporter": "python",
   "pygments_lexer": "ipython3",
   "version": "3.12.1"
  }
 },
 "nbformat": 4,
 "nbformat_minor": 2
}
