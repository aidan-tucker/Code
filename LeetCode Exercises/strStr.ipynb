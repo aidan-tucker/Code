{
 "cells": [
  {
   "cell_type": "code",
   "execution_count": 45,
   "metadata": {},
   "outputs": [
    {
     "name": "stdout",
     "output_type": "stream",
     "text": [
      "0\n",
      "-1\n",
      "-1\n",
      "2\n"
     ]
    }
   ],
   "source": [
    "def strStr(haystack, needle):\n",
    "    if needle in haystack:\n",
    "        for i in range(len(haystack)):\n",
    "            for j in range(len(needle)):\n",
    "                if haystack[i + j] == needle[j]:\n",
    "                    if j == len(needle) - 1: return i\n",
    "                else: break\n",
    "    return -1\n",
    "\n",
    "print(strStr(haystack = \"sadbutsad\", needle = \"sad\"))\n",
    "print(strStr(haystack = \"sadbutsad\", needle = \"sadboo\"))\n",
    "print(strStr(haystack = \"leetcode\", needle = \"leetto\"))\n",
    "print(strStr(haystack = \"hello\", needle = \"ll\"))"
   ]
  }
 ],
 "metadata": {
  "kernelspec": {
   "display_name": "Python 3",
   "language": "python",
   "name": "python3"
  },
  "language_info": {
   "codemirror_mode": {
    "name": "ipython",
    "version": 3
   },
   "file_extension": ".py",
   "mimetype": "text/x-python",
   "name": "python",
   "nbconvert_exporter": "python",
   "pygments_lexer": "ipython3",
   "version": "3.12.1"
  }
 },
 "nbformat": 4,
 "nbformat_minor": 2
}
