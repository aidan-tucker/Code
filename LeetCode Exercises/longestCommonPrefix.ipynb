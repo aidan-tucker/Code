{
 "cells": [
  {
   "cell_type": "code",
   "execution_count": null,
   "metadata": {},
   "outputs": [],
   "source": [
    "def longestCommonPrefix(strs):\n",
    "    if len(strs) == 1:\n",
    "        return strs[0]\n",
    "    else:\n",
    "        size = float('inf')\n",
    "        for x in range(len(strs)):\n",
    "            if strs[x] == \"\":\n",
    "                return \"\"\n",
    "            else:\n",
    "                if len(strs[x]) < float(size):\n",
    "                    size = len(strs[x])\n",
    "                    index = x\n",
    "\n",
    "        for i in range(int(size)):\n",
    "            letter = strs[index][i]\n",
    "            for j in range(1, len(strs)):\n",
    "                if strs[j][i] != letter:\n",
    "                    return strs[index][0:i]\n",
    "    return strs[index]\n",
    "\n",
    "print(longestCommonPrefix(strs = [\"flower\",\"flow\",\"flight\"]))\n",
    "print(longestCommonPrefix(strs = [\"dog\",\"racecar\",\"car\"]))\n",
    "print(longestCommonPrefix(strs = [\"ab\", \"a\"]))\n",
    "print(longestCommonPrefix(strs = [\"\",\"b\"]))\n",
    "print(longestCommonPrefix(strs = [\"aaa\", \"aa\", \"aaa\"]))"
   ]
  }
 ],
 "metadata": {
  "kernelspec": {
   "display_name": "Python 3",
   "language": "python",
   "name": "python3"
  },
  "language_info": {
   "codemirror_mode": {
    "name": "ipython",
    "version": 3
   },
   "file_extension": ".py",
   "mimetype": "text/x-python",
   "name": "python",
   "nbconvert_exporter": "python",
   "pygments_lexer": "ipython3",
   "version": "3.11.7"
  }
 },
 "nbformat": 4,
 "nbformat_minor": 2
}
