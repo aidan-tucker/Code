{
 "cells": [
  {
   "cell_type": "code",
   "execution_count": 4,
   "metadata": {},
   "outputs": [
    {
     "name": "stdout",
     "output_type": "stream",
     "text": [
      "2\n",
      "2\n",
      "5\n"
     ]
    }
   ],
   "source": [
    "def removeElement(nums, val):\n",
    "    count = len(nums)\n",
    "    for num in nums:\n",
    "        if num == val:\n",
    "            count -= 1\n",
    "    return count\n",
    "\n",
    "print(removeElement(nums = [3,2,2,3], val = 3))\n",
    "print(removeElement(nums = [3,2,2,3], val = 2))\n",
    "print(removeElement(nums = [0,1,2,2,3,0,4,2], val = 2))"
   ]
  }
 ],
 "metadata": {
  "kernelspec": {
   "display_name": "Python 3",
   "language": "python",
   "name": "python3"
  },
  "language_info": {
   "codemirror_mode": {
    "name": "ipython",
    "version": 3
   },
   "file_extension": ".py",
   "mimetype": "text/x-python",
   "name": "python",
   "nbconvert_exporter": "python",
   "pygments_lexer": "ipython3",
   "version": "3.11.7"
  }
 },
 "nbformat": 4,
 "nbformat_minor": 2
}
