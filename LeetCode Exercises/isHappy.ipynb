{
 "cells": [
  {
   "cell_type": "code",
   "execution_count": 40,
   "metadata": {},
   "outputs": [
    {
     "name": "stdout",
     "output_type": "stream",
     "text": [
      "82\n",
      "68\n",
      "100\n",
      "1\n",
      "True\n"
     ]
    }
   ],
   "source": [
    "def isHappy(n):\n",
    "    result = 0\n",
    "    counter = 0\n",
    "    while result != 1 and counter < 64:\n",
    "        result = 0\n",
    "        for num in str(n):\n",
    "            result += int(num)**2\n",
    "        print(result)\n",
    "        n = result\n",
    "        counter += 1\n",
    "        if counter == 16:\n",
    "            return False\n",
    "    else:\n",
    "        return True\n",
    "\n",
    "\n",
    "print(isHappy(19))"
   ]
  }
 ],
 "metadata": {
  "kernelspec": {
   "display_name": "Python 3",
   "language": "python",
   "name": "python3"
  },
  "language_info": {
   "codemirror_mode": {
    "name": "ipython",
    "version": 3
   },
   "file_extension": ".py",
   "mimetype": "text/x-python",
   "name": "python",
   "nbconvert_exporter": "python",
   "pygments_lexer": "ipython3",
   "version": "3.12.1"
  }
 },
 "nbformat": 4,
 "nbformat_minor": 2
}
