{
 "cells": [
  {
   "cell_type": "code",
   "execution_count": 10,
   "metadata": {},
   "outputs": [
    {
     "name": "stdout",
     "output_type": "stream",
     "text": [
      "[1, 1]\n",
      "[2, 1, 1]\n",
      "[3, 2, 1, 1]\n",
      "[5, 3, 2, 1, 1]\n",
      "[8, 5, 3, 2, 1, 1]\n"
     ]
    }
   ],
   "source": [
    "def climbStairs(n):\n",
    "    x = []\n",
    "    for i in range(n):\n",
    "        a = 0\n",
    "        b = 1\n",
    "        for j in range(n-1):\n",
    "            b += a\n",
    "            a = b - a\n",
    "        x.append(b)\n",
    "        n -= 1\n",
    "    return x\n",
    "\n",
    "\n",
    "print(climbStairs(2))\n",
    "print(climbStairs(3))\n",
    "print(climbStairs(4))\n",
    "print(climbStairs(5))\n",
    "print(climbStairs(6))"
   ]
  }
 ],
 "metadata": {
  "kernelspec": {
   "display_name": "Python 3",
   "language": "python",
   "name": "python3"
  },
  "language_info": {
   "codemirror_mode": {
    "name": "ipython",
    "version": 3
   },
   "file_extension": ".py",
   "mimetype": "text/x-python",
   "name": "python",
   "nbconvert_exporter": "python",
   "pygments_lexer": "ipython3",
   "version": "3.12.1"
  }
 },
 "nbformat": 4,
 "nbformat_minor": 2
}
