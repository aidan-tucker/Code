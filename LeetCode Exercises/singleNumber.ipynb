{
 "cells": [
  {
   "cell_type": "code",
   "execution_count": 1,
   "metadata": {},
   "outputs": [
    {
     "name": "stdout",
     "output_type": "stream",
     "text": [
      "1\n",
      "4\n",
      "1\n"
     ]
    }
   ],
   "source": [
    "def singleNumber(nums):\n",
    "    nums.sort()\n",
    "\n",
    "    for i in range(0, len(nums) - 1, 2):\n",
    "        if nums[i] != nums[i + 1]:\n",
    "            return nums[i]\n",
    "    return nums[len(nums) - 1]\n",
    "\n",
    "\n",
    "print(singleNumber([2,2,1]))\n",
    "print(singleNumber([4,1,2,1,2]))\n",
    "print(singleNumber([2,2,1]))"
   ]
  }
 ],
 "metadata": {
  "kernelspec": {
   "display_name": "Python 3",
   "language": "python",
   "name": "python3"
  },
  "language_info": {
   "codemirror_mode": {
    "name": "ipython",
    "version": 3
   },
   "file_extension": ".py",
   "mimetype": "text/x-python",
   "name": "python",
   "nbconvert_exporter": "python",
   "pygments_lexer": "ipython3",
   "version": "3.12.1"
  }
 },
 "nbformat": 4,
 "nbformat_minor": 2
}
