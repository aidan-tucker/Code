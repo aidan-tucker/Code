{
 "cells": [
  {
   "cell_type": "code",
   "execution_count": 1,
   "metadata": {},
   "outputs": [
    {
     "name": "stdout",
     "output_type": "stream",
     "text": [
      "True\n",
      "True\n",
      "True\n"
     ]
    }
   ],
   "source": [
    "def isPalindrome(x):\n",
    "    alnum = []\n",
    "    for char in str(x).lower():\n",
    "        if char.isalnum():\n",
    "            alnum.append(char)\n",
    "    txt = \"\".join(alnum)\n",
    "\n",
    "    if txt[::-1] == txt: return True\n",
    "    return False\n",
    "\n",
    "print(isPalindrome(121))\n",
    "print(isPalindrome(\"race car\"))\n",
    "print(isPalindrome(\"A man, a plan, a canal: Panama\"))"
   ]
  }
 ],
 "metadata": {
  "kernelspec": {
   "display_name": "Python 3",
   "language": "python",
   "name": "python3"
  },
  "language_info": {
   "codemirror_mode": {
    "name": "ipython",
    "version": 3
   },
   "file_extension": ".py",
   "mimetype": "text/x-python",
   "name": "python",
   "nbconvert_exporter": "python",
   "pygments_lexer": "ipython3",
   "version": "3.12.1"
  }
 },
 "nbformat": 4,
 "nbformat_minor": 2
}
