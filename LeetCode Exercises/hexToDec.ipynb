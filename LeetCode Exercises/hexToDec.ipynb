{
 "cells": [
  {
   "cell_type": "code",
   "execution_count": 1,
   "metadata": {},
   "outputs": [
    {
     "name": "stdout",
     "output_type": "stream",
     "text": [
      "10\n",
      "11\n",
      "27\n",
      "960\n",
      "65535\n",
      "None\n",
      "None\n"
     ]
    }
   ],
   "source": [
    "def hexToDec(hex):\n",
    "    dec = 0\n",
    "    hexNumbers = {'0':0, '1':1, '2':2, '3':3, \n",
    "                  '4':4, '5':5, '6':6, '7':7, \n",
    "                  '8':8, '9':9, 'A':10, 'B':11, \n",
    "                  'C':12, 'D':13, 'E':14, 'F':15}\n",
    "    \n",
    "    try:\n",
    "        for i in range(len(hex)): dec += hexNumbers.get(hex[-i-1]) << 4*i\n",
    "    except TypeError: return None\n",
    "    return dec\n",
    "\n",
    "\n",
    "print(hexToDec('A'))\n",
    "print(hexToDec('B'))\n",
    "print(hexToDec('1B'))\n",
    "print(hexToDec('3C0'))\n",
    "print(hexToDec('FFFF'))\n",
    "print(hexToDec('A6G'))\n",
    "print(hexToDec('ZZTOP'))"
   ]
  }
 ],
 "metadata": {
  "kernelspec": {
   "display_name": "Python 3",
   "language": "python",
   "name": "python3"
  },
  "language_info": {
   "codemirror_mode": {
    "name": "ipython",
    "version": 3
   },
   "file_extension": ".py",
   "mimetype": "text/x-python",
   "name": "python",
   "nbconvert_exporter": "python",
   "pygments_lexer": "ipython3",
   "version": "3.12.1"
  }
 },
 "nbformat": 4,
 "nbformat_minor": 2
}
