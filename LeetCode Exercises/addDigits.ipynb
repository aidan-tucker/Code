{
 "cells": [
  {
   "cell_type": "code",
   "execution_count": 1,
   "metadata": {},
   "outputs": [
    {
     "name": "stdout",
     "output_type": "stream",
     "text": [
      "0\n",
      "3\n",
      "2\n"
     ]
    }
   ],
   "source": [
    "def addDigits(num):\n",
    "    num = str(num)\n",
    "    if len(num) == 1: return int(num)\n",
    "    else:\n",
    "        next_num = 0\n",
    "        for i in range(len(num)): next_num += int(num[i])\n",
    "        return addDigits(next_num)\n",
    "\n",
    "\n",
    "print(addDigits(0))\n",
    "print(addDigits(3))\n",
    "print(addDigits(38))"
   ]
  }
 ],
 "metadata": {
  "kernelspec": {
   "display_name": "Python 3",
   "language": "python",
   "name": "python3"
  },
  "language_info": {
   "codemirror_mode": {
    "name": "ipython",
    "version": 3
   },
   "file_extension": ".py",
   "mimetype": "text/x-python",
   "name": "python",
   "nbconvert_exporter": "python",
   "pygments_lexer": "ipython3",
   "version": "3.12.1"
  }
 },
 "nbformat": 4,
 "nbformat_minor": 2
}
