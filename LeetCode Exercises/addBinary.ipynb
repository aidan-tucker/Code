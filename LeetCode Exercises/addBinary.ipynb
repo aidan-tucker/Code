{
 "cells": [
  {
   "cell_type": "code",
   "execution_count": 1,
   "metadata": {},
   "outputs": [
    {
     "name": "stdout",
     "output_type": "stream",
     "text": [
      "10101\n",
      "100\n",
      "0\n"
     ]
    }
   ],
   "source": [
    "def addBinary(a, b):\n",
    "    return bin(int(a, 2) + int(b, 2)).replace(\"0b\", \"\")\n",
    "\n",
    "\n",
    "print(addBinary(\"1010\", \"1011\"))\n",
    "print(addBinary(\"11\", \"1\"))\n",
    "print(addBinary(\"0\", \"0\"))\n"
   ]
  }
 ],
 "metadata": {
  "kernelspec": {
   "display_name": "Python 3",
   "language": "python",
   "name": "python3"
  },
  "language_info": {
   "codemirror_mode": {
    "name": "ipython",
    "version": 3
   },
   "file_extension": ".py",
   "mimetype": "text/x-python",
   "name": "python",
   "nbconvert_exporter": "python",
   "pygments_lexer": "ipython3",
   "version": "3.12.1"
  }
 },
 "nbformat": 4,
 "nbformat_minor": 2
}
