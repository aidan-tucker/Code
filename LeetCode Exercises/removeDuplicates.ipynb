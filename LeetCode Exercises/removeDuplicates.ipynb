{
 "cells": [
  {
   "cell_type": "code",
   "execution_count": 137,
   "metadata": {},
   "outputs": [
    {
     "name": "stdout",
     "output_type": "stream",
     "text": [
      "1\n",
      "1\n",
      "0\n",
      "3\n",
      "\n",
      "2\n",
      "1\n",
      "1\n",
      "0\n",
      "2\n",
      "\n",
      "1\n"
     ]
    }
   ],
   "source": [
    "def removeDuplicates(nums):\n",
    "    count = len(nums)\n",
    "    for i in range(len(nums)):\n",
    "        if i + 1 == len(nums): return count\n",
    "        num = nums[i]\n",
    "        print(num)\n",
    "        print(nums[i+1])\n",
    "        print(i)\n",
    "        print(len(nums))\n",
    "        print()\n",
    "        while num == nums[i+1] and i + 2 != len(nums):\n",
    "            del nums[i+1]\n",
    "            count -= 1\n",
    "\n",
    "print(removeDuplicates([1,1,2]))\n",
    "print(removeDuplicates([1,2,2]))\n",
    "print(removeDuplicates([1,1]))"
   ]
  }
 ],
 "metadata": {
  "kernelspec": {
   "display_name": "Python 3",
   "language": "python",
   "name": "python3"
  },
  "language_info": {
   "codemirror_mode": {
    "name": "ipython",
    "version": 3
   },
   "file_extension": ".py",
   "mimetype": "text/x-python",
   "name": "python",
   "nbconvert_exporter": "python",
   "pygments_lexer": "ipython3",
   "version": "3.11.7"
  }
 },
 "nbformat": 4,
 "nbformat_minor": 2
}
