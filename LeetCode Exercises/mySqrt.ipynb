{
 "cells": [
  {
   "cell_type": "code",
   "execution_count": 1,
   "metadata": {},
   "outputs": [
    {
     "name": "stdout",
     "output_type": "stream",
     "text": [
      "2.000000000000002\n",
      "2.82842712474619\n",
      "3.0\n",
      "1.7320508075688772\n",
      "1.414213562373095\n"
     ]
    }
   ],
   "source": [
    "def mySqrt(x, err=1e-12):\n",
    "    y = x\n",
    "    while abs(y*y - x) >= err:\n",
    "        y = (y + x/y)/2\n",
    "    return y\n",
    "\n",
    "\n",
    "print(mySqrt(4))\n",
    "print(mySqrt(8))\n",
    "print(mySqrt(9))\n",
    "print(mySqrt(3))\n",
    "print(mySqrt(2))\n"
   ]
  }
 ],
 "metadata": {
  "kernelspec": {
   "display_name": "Python 3",
   "language": "python",
   "name": "python3"
  },
  "language_info": {
   "codemirror_mode": {
    "name": "ipython",
    "version": 3
   },
   "file_extension": ".py",
   "mimetype": "text/x-python",
   "name": "python",
   "nbconvert_exporter": "python",
   "pygments_lexer": "ipython3",
   "version": "3.12.1"
  }
 },
 "nbformat": 4,
 "nbformat_minor": 2
}
