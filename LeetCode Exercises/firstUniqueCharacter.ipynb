{
 "cells": [
  {
   "cell_type": "code",
   "execution_count": 1,
   "metadata": {},
   "outputs": [
    {
     "name": "stdout",
     "output_type": "stream",
     "text": [
      "0\n",
      "2\n",
      "-1\n",
      "0\n"
     ]
    }
   ],
   "source": [
    "def firstUniqueCharacter(s):\n",
    "    if len(s) == 1: return 0\n",
    "    a = [s[0]]\n",
    "    b = []\n",
    "    for char in s:\n",
    "        b.append(char)\n",
    "    for i in range(len(s) - 1):\n",
    "        del b[0]\n",
    "        if a[i] not in b and a[i] not in a[:-1]: return i\n",
    "        a.append(b[0])\n",
    "    return -1\n",
    "\n",
    "\n",
    "print(firstUniqueCharacter(\"leetcode\"))\n",
    "print(firstUniqueCharacter(\"loveleetcode\"))\n",
    "print(firstUniqueCharacter(\"aabb\"))\n",
    "print(firstUniqueCharacter(\"q\"))"
   ]
  }
 ],
 "metadata": {
  "kernelspec": {
   "display_name": "Python 3",
   "language": "python",
   "name": "python3"
  },
  "language_info": {
   "codemirror_mode": {
    "name": "ipython",
    "version": 3
   },
   "file_extension": ".py",
   "mimetype": "text/x-python",
   "name": "python",
   "nbconvert_exporter": "python",
   "pygments_lexer": "ipython3",
   "version": "3.12.1"
  }
 },
 "nbformat": 4,
 "nbformat_minor": 2
}
