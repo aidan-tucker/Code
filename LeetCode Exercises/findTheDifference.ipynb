{
 "cells": [
  {
   "cell_type": "code",
   "execution_count": 3,
   "metadata": {},
   "outputs": [
    {
     "name": "stdout",
     "output_type": "stream",
     "text": [
      "e\n"
     ]
    }
   ],
   "source": [
    "def findTheDifference(s,t):\n",
    "    s = sorted(s)\n",
    "    t = sorted(t)\n",
    "    for i in range(len(s)):\n",
    "        if s[i] != t[i]: return t[i]\n",
    "    return t[len(t) - 1]\n",
    "\n",
    "\n",
    "print(findTheDifference(\"abcd\", \"aebcd\"))"
   ]
  }
 ],
 "metadata": {
  "kernelspec": {
   "display_name": "Python 3",
   "language": "python",
   "name": "python3"
  },
  "language_info": {
   "codemirror_mode": {
    "name": "ipython",
    "version": 3
   },
   "file_extension": ".py",
   "mimetype": "text/x-python",
   "name": "python",
   "nbconvert_exporter": "python",
   "pygments_lexer": "ipython3",
   "version": "3.12.1"
  }
 },
 "nbformat": 4,
 "nbformat_minor": 2
}
